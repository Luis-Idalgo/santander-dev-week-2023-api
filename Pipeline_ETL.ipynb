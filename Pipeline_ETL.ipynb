{
  "nbformat": 4,
  "nbformat_minor": 0,
  "metadata": {
    "colab": {
      "provenance": [],
      "authorship_tag": "ABX9TyPL7CyrUjNdAXQS+fyscgA7",
      "include_colab_link": true
    },
    "kernelspec": {
      "name": "python3",
      "display_name": "Python 3"
    },
    "language_info": {
      "name": "python"
    }
  },
  "cells": [
    {
      "cell_type": "markdown",
      "metadata": {
        "id": "view-in-github",
        "colab_type": "text"
      },
      "source": [
        "<a href=\"https://colab.research.google.com/github/Luis-Idalgo/santander-dev-week-2023-api/blob/main/Pipeline_ETL.ipynb\" target=\"_parent\"><img src=\"https://colab.research.google.com/assets/colab-badge.svg\" alt=\"Open In Colab\"/></a>"
      ]
    },
    {
      "cell_type": "code",
      "execution_count": 14,
      "metadata": {
        "colab": {
          "base_uri": "https://localhost:8080/"
        },
        "id": "7Id44gd7seZg",
        "outputId": "83f98a31-d1d6-4743-a003-58b07de94285"
      },
      "outputs": [
        {
          "output_type": "stream",
          "name": "stdout",
          "text": [
            "Total Number of universities from API: 2269\n",
            "Number of universities in california 42\n"
          ]
        }
      ],
      "source": [
        "import requests\n",
        "import pandas as pd\n",
        "#from sqlalchemy import create_engine\n",
        "from google.colab import data_table\n"
      ]
    },
    {
      "cell_type": "code",
      "source": [
        "def extract()-> dict:\n",
        "    \"\"\" This API extracts data from\n",
        "    http://universities.hipolabs.com\n",
        "    \"\"\"\n",
        "    API_URL = \"http://universities.hipolabs.com/search?country=United+States\"\n",
        "    data = requests.get(API_URL).json()\n",
        "    return data"
      ],
      "metadata": {
        "id": "BLZfZ6RVwzGG"
      },
      "execution_count": 17,
      "outputs": []
    },
    {
      "cell_type": "code",
      "source": [
        "def transform(data:dict) -> pd.DataFrame:\n",
        "    \"\"\" Transforms the dataset into desired structure and filters\"\"\"\n",
        "    df = pd.DataFrame(data)\n",
        "    print(f\"Total Number of universities from API {len(data)}\")\n",
        "    print(\"\\n\")\n",
        "    total_Universities_per_State = df.groupby('state-province')['state-province'].count()\n",
        "    print(f\"Univesities per State Province \\n {total_Universities_per_State}\")\n",
        "    print(\"\\n\")\n",
        "    df = df[df[\"name\"].str.contains(\"California\")]\n",
        "    print(f\"Number of universities Named with california {len(df)}\")\n",
        "    print(\"\\n\")\n",
        "    df['domains'] = [','.join(map(str, l)) for l in df['domains']]\n",
        "    df['web_pages'] = [','.join(map(str, l)) for l in df['web_pages']]\n",
        "    df = df.reset_index(drop=True)\n",
        "    return df[[\"domains\",\"country\",\"web_pages\",\"name\"]]"
      ],
      "metadata": {
        "id": "10VUrXYzwuyh"
      },
      "execution_count": 90,
      "outputs": []
    },
    {
      "cell_type": "code",
      "source": [
        "def load(df:pd.DataFrame)-> None:\n",
        "    \"\"\" Loads data into a sqllite database\"\"\"\n",
        "\n",
        "    disk_engine = create_engine('sqlite:///my_lite_store.db')\n",
        "    df.to_sql('cal_uni', disk_engine, if_exists='replace')"
      ],
      "metadata": {
        "id": "3uRVR9Izx6S8"
      },
      "execution_count": 49,
      "outputs": []
    },
    {
      "cell_type": "code",
      "source": [
        "\n",
        "data = extract()\n",
        "df = transform(data)\n",
        "load(df)"
      ],
      "metadata": {
        "colab": {
          "base_uri": "https://localhost:8080/"
        },
        "id": "RMzdz93Yx-RH",
        "outputId": "83945631-1667-4379-8473-ee35c075d3b4"
      },
      "execution_count": 92,
      "outputs": [
        {
          "output_type": "stream",
          "name": "stdout",
          "text": [
            "Total Number of universities from API 2269\n",
            "\n",
            "\n",
            "Univesities per State Province \n",
            " state-province\n",
            "CA                 2\n",
            "California         5\n",
            "Colorado           1\n",
            "Florida            1\n",
            "GA                 2\n",
            "IN                 1\n",
            "Illinois           1\n",
            "Indiana            1\n",
            "Iowa               1\n",
            "MI                 1\n",
            "Maine              1\n",
            "Michigan           1\n",
            "Missouri           1\n",
            "ND                 1\n",
            "NV                 1\n",
            "NY                 9\n",
            "New Hampshire      1\n",
            "New York           1\n",
            "New York, NY       4\n",
            "North Carolina     2\n",
            "Ohio               2\n",
            "Pennsylvania      31\n",
            "South Carolina     1\n",
            "TX                 2\n",
            "Texas              4\n",
            "Utah               1\n",
            "VA                 1\n",
            "Virginia           1\n",
            "Washington         2\n",
            "Name: state-province, dtype: int64\n",
            "\n",
            "\n",
            "Number of universities Named with california 42\n",
            "\n",
            "\n"
          ]
        }
      ]
    },
    {
      "cell_type": "code",
      "source": [],
      "metadata": {
        "id": "IXkUfTDr2R_G"
      },
      "execution_count": null,
      "outputs": []
    }
  ]
}